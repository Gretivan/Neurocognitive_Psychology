{
 "cells": [
  {
   "cell_type": "markdown",
   "id": "5c068c79",
   "metadata": {},
   "source": [
    "## Discussion, Limitations and Reflection"
   ]
  },
  {
   "cell_type": "markdown",
   "id": "fe55c176",
   "metadata": {},
   "source": [
    "### Do for a a few 5 splits, see what happens and compare results\n"
   ]
  },
  {
   "cell_type": "markdown",
   "id": "71cad496",
   "metadata": {},
   "source": []
  },
  {
   "cell_type": "markdown",
   "id": "e133ddcd",
   "metadata": {},
   "source": []
  },
  {
   "cell_type": "markdown",
   "id": "cd5663b6",
   "metadata": {},
   "source": []
  },
  {
   "cell_type": "markdown",
   "id": "3b6359e3",
   "metadata": {},
   "source": []
  },
  {
   "cell_type": "markdown",
   "id": "964d6c4f",
   "metadata": {},
   "source": []
  },
  {
   "cell_type": "markdown",
   "id": "0ef664bc",
   "metadata": {},
   "source": []
  },
  {
   "cell_type": "markdown",
   "id": "783aaa16",
   "metadata": {},
   "source": []
  },
  {
   "cell_type": "markdown",
   "id": "281bfa64",
   "metadata": {},
   "source": [
    "## *Limitations*"
   ]
  },
  {
   "cell_type": "markdown",
   "id": "9b2d9d8d",
   "metadata": {},
   "source": [
    "One limitation of the present study concerns the utilisation of the ABIDE II dataset. This cohort includes primarily individuals with high-function ASD.  \n",
    "\n",
    "\n",
    "Schaer, 2015: One of the limitations of our study is that the ABIDE cohort includes mainly individuals with high-functioning ASD (IQ range 61–147). Given the difficulty of acquiring MRIs from lower-functioning children and adolescents, the inclusion of only high-functioning affected individuals is a common limitation of imaging studies in ASD. A second limitation is that we did not have access to fine-grained measures of the clinical and cognitive phenotypes of the individuals with ASD included in the ABIDE cohort. With the available measures, the groups of males and females with ASD did not differ on the severity of autistic symptoms in social interactions, communication, or RRB, limiting our ability to assess whether the observed sex-by-diagnosis interaction has an impact on the observed behavioral phenotype. Finally, to achieve a sample size of 53 females with ASD, we had to merge cerebral MRI acquired at different sites with varying scanning parameters. To minimize the impact of the different sites on quality, we conducted thorough quality control, and matched all the females individually for age and site by “quartet”. Given the dearth of studies examining females with ASD to date, we suggest that our study offers a template for directing future studies examining sex differences in the disorder."
   ]
  }
 ],
 "metadata": {
  "kernelspec": {
   "display_name": "neuro_ai",
   "language": "python",
   "name": "neuro_ai"
  },
  "language_info": {
   "codemirror_mode": {
    "name": "ipython",
    "version": 3
   },
   "file_extension": ".py",
   "mimetype": "text/x-python",
   "name": "python",
   "nbconvert_exporter": "python",
   "pygments_lexer": "ipython3",
   "version": "3.7.0"
  }
 },
 "nbformat": 4,
 "nbformat_minor": 5
}
