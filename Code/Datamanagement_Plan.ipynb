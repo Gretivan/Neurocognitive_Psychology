{
 "cells": [
  {
   "cell_type": "markdown",
   "id": "e1c2e067",
   "metadata": {},
   "source": [
    "#### *Datamanagement Plan*"
   ]
  },
  {
   "cell_type": "markdown",
   "id": "70187e26",
   "metadata": {},
   "source": [
    "zotero\n",
    "osf\n",
    "github repo"
   ]
  },
  {
   "cell_type": "markdown",
   "id": "b5660416",
   "metadata": {},
   "source": [
    "#### *Version control*"
   ]
  },
  {
   "cell_type": "markdown",
   "id": "c4852546",
   "metadata": {},
   "source": [
    "For this project, we made sure to use version control to track and manage any changes that are made to the existing code. Doing this allows for comparisons of earlier version of codes incase mistakes, or deletions, were made earlier on. It can also be used the track changes, make independent changes and incorporate changes. To do this, we used the version control software GitHub, and vsCode, to store files online and make them visible to collaborators. To do this, we created a [GitHub repository](https://github.com/Gretivan/Neurocognitive_Psychology) containing all necessary, and new files, which hold the project development information.   "
   ]
  },
  {
   "cell_type": "markdown",
   "id": "c506e81a",
   "metadata": {},
   "source": [
    "#### *Projectmanagement Plan*"
   ]
  },
  {
   "cell_type": "markdown",
   "id": "1630cf2e",
   "metadata": {},
   "source": [
    "As previously discussed, we used the [ABIDE I](http://fcon_1000.projects.nitrc.org/indi/abide/abide_I.html) dataset for this project. "
   ]
  }
 ],
 "metadata": {
  "kernelspec": {
   "display_name": "neuro_ai",
   "language": "python",
   "name": "neuro_ai"
  },
  "language_info": {
   "codemirror_mode": {
    "name": "ipython",
    "version": 3
   },
   "file_extension": ".py",
   "mimetype": "text/x-python",
   "name": "python",
   "nbconvert_exporter": "python",
   "pygments_lexer": "ipython3",
   "version": "3.7.0"
  }
 },
 "nbformat": 4,
 "nbformat_minor": 5
}
