{
 "cells": [
  {
   "cell_type": "markdown",
   "id": "17f7d4c1",
   "metadata": {},
   "source": [
    "#### *Data- and Project-management Plan*"
   ]
  },
  {
   "cell_type": "markdown",
   "id": "a21d4efd",
   "metadata": {},
   "source": [
    "As previously discussed, we used the [ABIDE I](http://fcon_1000.projects.nitrc.org/indi/abide/abide_I.html) dataset for this project. Since the data consistet solely of brain images and a phenotypic .csv file, a data-management package such as pybids was not utilised. \n",
    "\n",
    "To manage this neurocognitive Psychology project, a variety of programs were used to ensure fairness and openness. For the initial development of the research question, and an evaluation of existing literature, we used [Zotero](https://www.zotero.org/gretavangerow/collections/D7JQTGLK). In this Zotero library are located a variety of papers regarding Autism symptoms and how these differ between males and females, neuroanatomical brain differences that are sex-specific and autism specific, and a combination of both. While not all of these papers were evaluated in the initial literature review, they are still all relevant and utilize different methods to assess neuroanatomical changes. \n",
    "\n",
    "As a workflow system, containing a brief project description, a link to the Zotero profile and regular updates related to the GitHub repo, [OSF](https://osf.io/fnwd5/) was used. OSF allows researchers, and research teams, to work on projects either privately or publicly, fulfilling our wish to make the project open and fair. It allows for a good overview of the project, with the ability to look deeper into certain areas if desired.   \n",
    "\n",
    "Facilitating further insight into the depths of this project, including the code used, and the problems faced, a [GitHub repository](https://github.com/Gretivan/Neurocognitive_Psychology) was applied. This repository also served as a form of version control, which will be discussed below. Since a GitHub repository can also be made either private or public, and collaborators can be permitted access to evaluate and help fix issues, it further supports our openness goal. \n",
    "\n",
    "In order to make this project even more replicable, we also provide a copy of the virtual environment in which this project was created. This gives an overview of the various packages used, and allows one to assess which versions of these packages used are necessary when trying to replicate the analysis."
   ]
  },
  {
   "cell_type": "markdown",
   "id": "5bec8c19",
   "metadata": {},
   "source": [
    "#### *Version control*"
   ]
  },
  {
   "cell_type": "markdown",
   "id": "f5406232",
   "metadata": {},
   "source": [
    "Version control refers to the tracking and management of any changes that are made to an existing code. Doing this allows for comparisons of earlier version of codes incase mistakes, or deletions, were made earlier on. It can also be used the track changes, make independent changes and incorporate changes. To do this, we used the version control software GitHub, and [vsCode](https://code.visualstudio.com/), to store files online and make them visible to collaborators. To do this, we created a [GitHub repository](https://github.com/Gretivan/Neurocognitive_Psychology) containing all necessary, and new files, which hold the project development information.   "
   ]
  }
 ],
 "metadata": {
  "kernelspec": {
   "display_name": "neuro_ai",
   "language": "python",
   "name": "neuro_ai"
  },
  "language_info": {
   "codemirror_mode": {
    "name": "ipython",
    "version": 3
   },
   "file_extension": ".py",
   "mimetype": "text/x-python",
   "name": "python",
   "nbconvert_exporter": "python",
   "pygments_lexer": "ipython3",
   "version": "3.7.0"
  }
 },
 "nbformat": 4,
 "nbformat_minor": 5
}
