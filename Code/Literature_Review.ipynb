{
 "cells": [
  {
   "cell_type": "markdown",
   "id": "42530d4f",
   "metadata": {},
   "source": [
    "# Conception of the Research Question "
   ]
  },
  {
   "cell_type": "markdown",
   "id": "bed900b2",
   "metadata": {},
   "source": [
    "#### *Autism Spectrum Disorder*   "
   ]
  },
  {
   "cell_type": "markdown",
   "id": "54a7e87b",
   "metadata": {},
   "source": [
    "Autism spectrum disorder, or ASD, is a neurodevelopmental disorder characterised by behavioural deficits in social communication, including non-verbal communiation like body language; restricted interests; and repetetive behaviours, such as repetetive and sterotyped motor movements and inflexible adherence to routines [(Hodges, Fealko, & Neelkamal, 2020)](https://www.ncbi.nlm.nih.gov/pmc/articles/PMC7082249/). As it is defined as a neurodevelopmental, or neurobiological disorder, influenced by several genetic and environmental factors, ASD is thought to have a large impact on the development of the brain in early infancy resulting in identifiable anatomical and thus behavioural abnormalities. Despite its growing prevalence, there are currently no clear ASD biomarkers or diagnostic measures to identify ASD in children. Its diagnosis is made soley based on the fulfillment of descriptive criteria."
   ]
  },
  {
   "cell_type": "markdown",
   "id": "3177813c",
   "metadata": {},
   "source": [
    "Symptomatically and behaviourally, ASD affects males and females differently. It is theorised that ASD is expressed in domains of empathy, which allow for identification and reacting to others mental states, and systemizing, which allows for analysis and construction of systems [(Beacher et al., 2012)](http://www.ajnr.org/lookup/doi/10.3174/ajnr.A2880). [Baron-Cohen (2009)](https://pubmed.ncbi.nlm.nih.gov/19338503/) notes that in the general population, females tend to be more empathetic, whereas males are more systematic. Based on this proposition, [(Baron-Cohen & Wheelwright (2004)](https://pubmed.ncbi.nlm.nih.gov/15162935/) suggest that males on the Autistic spectrum represent an extreme typical male profile, with very low levels or even impaired empathy and typical or enhanced systemizing abilities. Females on the other hand, tend to camouflage their ASD symptoms [(Schuck, Flores, & Fung, 2019)](https://www.ncbi.nlm.nih.gov/pmc/articles/PMC6753236/), which is proposed to contribute to the low detection and prevalence rates of ASD in females. Camouflaging refers to the modification of outward social expression and displaying learnt social behaviours, such as facial expressions and eye contact, to appear more typical [(Hull, Mandy, & Petrides, 2017)](https://journals.sagepub.com/doi/10.1177/1362361316669087). \n",
    "\n"
   ]
  },
  {
   "cell_type": "markdown",
   "id": "a042ca4b",
   "metadata": {},
   "source": [
    "Since its etiology is still unclear, more recent research has started looking into neurobiological markers for ASD. The goal of identifying neurobiological or neuroanatomical differences between individuals with ASD and individuals with neurotypical brain development is to inform diagnosis and aid in personalizing interventions. One of these studies found, using deep learning to extract ASD-specific variation from typical brain variation, that ASD-specific neuroanatomical variation correlated with symptomatic differences between participants [(Aglinskas, Hartshorne, & Anzellotti, 2022)](https://www.science.org/doi/10.1126/science.abm2461). They further identified that individuals with ASD are organised along a continuous dimension of distinct sets of regions, as opposed to clustering into separate subtypes as previously hypothesised. "
   ]
  },
  {
   "cell_type": "markdown",
   "id": "03e2ca1e",
   "metadata": {},
   "source": [
    "The discovery that ASD-specific neuroanatmical variation correlates with symptomatic individual differences prompts the question: if symptoms of ASD elicit different neuroanatomical variation, and there are clear behavioural and symptomatic distinctions between males and females with ASD, are there identifiable ASD-specific neuroanatomical sex differences? "
   ]
  },
  {
   "cell_type": "markdown",
   "id": "ad0c8efb",
   "metadata": {},
   "source": []
  },
  {
   "cell_type": "markdown",
   "id": "40cebb3c",
   "metadata": {},
   "source": []
  }
 ],
 "metadata": {
  "kernelspec": {
   "display_name": "neuro_ai",
   "language": "python",
   "name": "neuro_ai"
  },
  "language_info": {
   "codemirror_mode": {
    "name": "ipython",
    "version": 3
   },
   "file_extension": ".py",
   "mimetype": "text/x-python",
   "name": "python",
   "nbconvert_exporter": "python",
   "pygments_lexer": "ipython3",
   "version": "3.7.0"
  }
 },
 "nbformat": 4,
 "nbformat_minor": 5
}
