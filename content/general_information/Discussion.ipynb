{
 "cells": [
  {
   "cell_type": "markdown",
   "id": "1703edb6",
   "metadata": {},
   "source": [
    "## Discussion, Limitations and Reflection"
   ]
  },
  {
   "cell_type": "markdown",
   "id": "fe55c176",
   "metadata": {},
   "source": [
    "### *Discussion*"
   ]
  },
  {
   "cell_type": "markdown",
   "id": "71cad496",
   "metadata": {},
   "source": []
  },
  {
   "cell_type": "markdown",
   "id": "e133ddcd",
   "metadata": {},
   "source": []
  },
  {
   "cell_type": "markdown",
   "id": "cd5663b6",
   "metadata": {},
   "source": []
  },
  {
   "cell_type": "markdown",
   "id": "3b6359e3",
   "metadata": {},
   "source": []
  },
  {
   "cell_type": "markdown",
   "id": "964d6c4f",
   "metadata": {},
   "source": []
  },
  {
   "cell_type": "markdown",
   "id": "0ef664bc",
   "metadata": {},
   "source": []
  },
  {
   "cell_type": "markdown",
   "id": "783aaa16",
   "metadata": {},
   "source": []
  },
  {
   "cell_type": "markdown",
   "id": "281bfa64",
   "metadata": {},
   "source": [
    "### *Limitations*"
   ]
  },
  {
   "cell_type": "markdown",
   "id": "9b2d9d8d",
   "metadata": {},
   "source": [
    "As with all pieces of research, we faced some challenges during the **ausführung** of this project, which we consider as limitations. As mentioned during the assessment of the utiliesd dataset, ABIDE I, we were unable to get access to the more comprehensive ABIDE II data set. The ABIDE I dataset provides more subpar quality in comparison to the data in the ABIDE II dataset. Furthermore, a more methodological limitation concerns the participants themself. That being, that most if not all of the participants in this dataset are individuals with high-function ASD, meaning they present with an IQ above 85. This means that the results presented in this study lack external validity, as they are not generalisable to cohorts of low-function individuals. We know that there are very large differences in behaviour and ASD symptoms between individuals with high- and low-functioning ASD which, as seen with differing symptoms in males and females, suggests that there will also differences in cortical thickness between these individuals, but possibly located in different regions and more substantial. The reason for this limited comprehensiveness of the sample, however, lies in ethics. It is very difficult to acquire MRI data from lower-functioning individuals, as these individuals often have difficult understanding language and thus instructions to lay still, are **motorisch unruhig**, and are often not able to give consent for such analyses. In line with this problematic sample - the ratio of female to male participants was very uneven. Thus we had to significantly reduce the sample, from over 1000 to 311, in order to have even groups of males and females. "
   ]
  },
  {
   "cell_type": "markdown",
   "id": "5cd4beae",
   "metadata": {},
   "source": [
    "### *Reflection*"
   ]
  }
 ],
 "metadata": {
  "kernelspec": {
   "display_name": "neuro_ai",
   "language": "python",
   "name": "neuro_ai"
  },
  "language_info": {
   "codemirror_mode": {
    "name": "ipython",
    "version": 3
   },
   "file_extension": ".py",
   "mimetype": "text/x-python",
   "name": "python",
   "nbconvert_exporter": "python",
   "pygments_lexer": "ipython3",
   "version": "3.7.0"
  }
 },
 "nbformat": 4,
 "nbformat_minor": 5
}
